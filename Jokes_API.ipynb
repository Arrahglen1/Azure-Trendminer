{
 "cells": [
  {
   "cell_type": "code",
   "execution_count": 8,
   "metadata": {},
   "outputs": [],
   "source": [
    "# Library to do API calls\n",
    "import requests\n",
    "import json\n",
    "import random"
   ]
  },
  {
   "cell_type": "code",
   "execution_count": 9,
   "metadata": {},
   "outputs": [],
   "source": [
    "# An API call can have different types (GET / POST / PUT / DELETE)\n",
    "# Example of a simple GET to get a random joke\n",
    "payload = {'category': 'Programming', 'type': 'twopart', 'flags': {'nsfw': False, 'religious': False, 'political': False, 'racist': False, 'sexist': False}}\n",
    "payloads =  {'category': 'Programming', 'type': 'single', 'flags': {'nsfw': True, 'religious': True, 'political': False, 'racist': False, 'sexist': False}}\n",
    "result = requests.get('https://sv443.net/jokeapi/v2/joke/Programming?type=twopart')\n",
    "ralo = requests.get('https://sv443.net/jokeapi/v2/joke/Programming' , params=payloads)\n",
    "trado = requests.get('https://sv443.net/jokeapi/v2/joke/Programming' , params=payload)\n",
    "# If you play around with the \"Try it out here:\" on https://sv443.net/jokeapi/v2/#getting-started\n",
    "# you should be able to write a REST call where you only get jokes about (1) programming, (2) are in two parts\n",
    "# (3) containt the string \"java\"\n",
    "# Please do so as an exercise! Look at the URL changes in the example at https://sv443.net/jokeapi/v2/#getting-started"
   ]
  },
  {
   "cell_type": "code",
   "execution_count": 10,
   "metadata": {},
   "outputs": [
    {
     "data": {
      "text/plain": [
       "200"
      ]
     },
     "execution_count": 10,
     "metadata": {},
     "output_type": "execute_result"
    }
   ],
   "source": [
    "#check the status code of the ralo,trado and result\n",
    "#ralo.status_code\n",
    "#result.status_code\n",
    "trado.status_code"
   ]
  },
  {
   "cell_type": "code",
   "execution_count": 11,
   "metadata": {},
   "outputs": [
    {
     "data": {
      "text/plain": [
       "True"
      ]
     },
     "execution_count": 11,
     "metadata": {},
     "output_type": "execute_result"
    }
   ],
   "source": [
    "#check if the status code is ok\n",
    "#ralo.ok\n",
    "#result.ok\n",
    "trado.ok"
   ]
  },
  {
   "cell_type": "code",
   "execution_count": 12,
   "metadata": {},
   "outputs": [
    {
     "name": "stdout",
     "output_type": "stream",
     "text": [
      "{'category': 'Programming', 'type': 'twopart', 'setup': 'How did you make your friend rage?', 'delivery': 'I implemented a greek question mark in his JavaScript code.', 'flags': {'nsfw': False, 'religious': False, 'political': False, 'racist': False, 'sexist': False}, 'id': 149, 'error': False}\n",
      "https://sv443.net/jokeapi/v2/joke/Programming?category=Programming&type=twopart&flags=nsfw&flags=religious&flags=political&flags=racist&flags=sexist\n"
     ]
    }
   ],
   "source": [
    "# The result object contains text which a JSON representation of the data you received through the Joke API\n",
    "#print(result.json())\n",
    "#print(result.url)\n",
    "print(trado.json())\n",
    "print(trado.url)\n"
   ]
  },
  {
   "cell_type": "code",
   "execution_count": 13,
   "metadata": {},
   "outputs": [
    {
     "name": "stdout",
     "output_type": "stream",
     "text": [
      "{'category': 'Programming', 'type': 'single', 'joke': 'The generation of random numbers is too important to be left to chance.', 'flags': {'nsfw': False, 'religious': False, 'political': False, 'racist': False, 'sexist': False}, 'id': 39, 'error': False}\n",
      "https://sv443.net/jokeapi/v2/joke/Programming?category=Programming&type=single&flags=nsfw&flags=religious&flags=political&flags=racist&flags=sexist\n"
     ]
    }
   ],
   "source": [
    "print(ralo.json())\n",
    "print(ralo.url)"
   ]
  },
  {
   "cell_type": "code",
   "execution_count": 14,
   "metadata": {},
   "outputs": [
    {
     "data": {
      "text/plain": [
       "{'Date': 'Sun, 19 Jul 2020 12:32:48 GMT', 'Content-Type': 'application/json; charset=UTF-8', 'Content-Length': '326', 'Connection': 'keep-alive', 'Set-Cookie': '__cfduid=d58af27f48f18fbfebe579a33c74eb28e1595161967; expires=Tue, 18-Aug-20 12:32:47 GMT; path=/; domain=.sv443.net; HttpOnly; SameSite=Lax; Secure', 'CF-Ray': '5b54779b8ccad484-BRU', 'Access-Control-Allow-Origin': '*', 'Allow': 'GET, HEAD, OPTIONS, PUT', 'Cache-Control': 'no-cache, no-store, must-revalidate, no-transform', 'Expires': '0', 'Strict-Transport-Security': 'max-age=15552000; includeSubDomains; preload', 'CF-Cache-Status': 'DYNAMIC', 'Access-Control-Allow-Headers': '*', 'Access-Control-Allow-Methods': 'GET, HEAD, OPTIONS, PUT', 'Access-Control-Request-Method': 'GET', 'API-Info': 'JokeAPI v2.1.5 (https://sv443.net/jokeapi/v2)', 'cf-request-id': '0408a915340000d4848407d200000001', 'Content-Security-Policy': \"default-src https: 'unsafe-eval' 'unsafe-inline'; object-src 'none'\", 'Expect-CT': 'max-age=604800, report-uri=\"https://report-uri.cloudflare.com/cdn-cgi/beacon/expect-ct\"', 'Pragma': 'no-cache', 'Referrer-Policy': 'no-referrer, strict-origin-when-cross-origin', 'X-Content-Type-Options': 'nosniff', 'X-Frame-Options': 'SAMEORIGIN', 'Vary': 'Accept-Encoding', 'Server': 'cloudflare', 'alt-svc': 'h3-27=\":443\"; ma=86400, h3-28=\":443\"; ma=86400, h3-29=\":443\"; ma=86400'}"
      ]
     },
     "execution_count": 14,
     "metadata": {},
     "output_type": "execute_result"
    }
   ],
   "source": [
    "#view the server’s response headers using a Python dictionary\n",
    "ralo.headers"
   ]
  },
  {
   "cell_type": "code",
   "execution_count": 15,
   "metadata": {},
   "outputs": [
    {
     "data": {
      "text/plain": [
       "'application/json; charset=UTF-8'"
      ]
     },
     "execution_count": 15,
     "metadata": {},
     "output_type": "execute_result"
    }
   ],
   "source": [
    "ralo.headers.get('Content-Type')"
   ]
  },
  {
   "cell_type": "code",
   "execution_count": 16,
   "metadata": {},
   "outputs": [
    {
     "name": "stdout",
     "output_type": "stream",
     "text": [
      "b'{\\n    \"category\": \"Programming\",\\n    \"type\": \"single\",\\n    \"joke\": \"\\\\\"Can I tell you a TCP joke?\\\\\"\\\\n\\\\\"Please tell me a TCP joke.\\\\\"\\\\n\\\\\"OK, I\\'ll tell you a TCP joke.\\\\\"\",\\n    \"flags\": {\\n        \"nsfw\": false,\\n        \"religious\": false,\\n        \"political\": false,\\n        \"racist\": false,\\n        \"sexist\": false\\n    },\\n    \"id\": 58,\\n    \"error\": false\\n}'\n"
     ]
    }
   ],
   "source": [
    "# Applying smilar scenario  above but this time using postman to generate the code\n",
    "url = \"https://sv443.net/jokeapi/v2/joke/Programming\"\n",
    "payload = \"\\r\\n{\\r\\n    \\\"category\\\": \\\"Programming\\\",\\r\\n    \\\"type\\\": \\\"twopart\\\",\\r\\n    \\\"flags\\\": {\\r\\n        \\\"nsfw\\\": false,\\r\\n        \\\"religious\\\": false,\\r\\n        \\\"political\\\": false,\\r\\n        \\\"racist\\\": false,\\r\\n        \\\"sexist\\\": false\\r\\n    }}\"\n",
    "headers = {\n",
    "'Authorization': 'Basic Og==',\n",
    "'Content-Type': 'application/json'\n",
    "}\n",
    "\n",
    "response = requests.request(\"GET\", url, headers=headers, data = payload)\n",
    "\n",
    "print(response.text.encode('utf8'))"
   ]
  },
  {
   "cell_type": "code",
   "execution_count": 17,
   "metadata": {},
   "outputs": [],
   "source": [
    "#########\n",
    "# Up until here all we've done is using GET requests\n",
    "# Next exercise is actually submitting a new joke by using a PUT request\n",
    "# This will need to be done on the following url https://sv443.net/jokeapi/v2/submit\n",
    "# You'll need to send the payload as a json\n",
    "# You can find the right format of the json at https://sv443.net/jokeapi/v2/#getting-started under submit joke\n",
    "# You'll have to generate a json object for this in python (use the json package imported above)\n",
    "# You'll have to use requests.put"
   ]
  },
  {
   "cell_type": "code",
   "execution_count": 18,
   "metadata": {},
   "outputs": [
    {
     "name": "stdout",
     "output_type": "stream",
     "text": [
      "b'{\\n    \"error\": false,\\n    \"message\": \"Joke submission was successfully saved. It will soon be checked out by the author.\",\\n    \"submission\": {\\n        \"formatVersion\": 2,\\n        \"category\": \"Programming\",\\n        \"type\": \"twopart\",\\n        \"flags\": {\\n            \"nsfw\": true,\\n            \"religious\": true,\\n            \"political\": true,\\n            \"racist\": false,\\n            \"sexist\": false\\n        },\\n        \"setup\": \"That is the way it has always been \",\\n        \"delivery\": \"It just change\"\\n    },\\n    \"timestamp\": 1595161969813\\n}'\n"
     ]
    }
   ],
   "source": [
    "#Using postman to do put with different parameters and getting the code in python\n",
    "url1 = \"https://sv443.net/jokeapi/v2/submit\"\n",
    "\n",
    "payloadd = \"{\\r\\n    \\\"formatVersion\\\": 2,\\r\\n    \\\"category\\\": \\\"Programming\\\",\\r\\n    \\\"type\\\": \\\"twopart\\\",\\r\\n    \\\"flags\\\": {\\r\\n        \\\"nsfw\\\": true,\\r\\n        \\\"religious\\\": true,\\r\\n        \\\"political\\\": true,\\r\\n        \\\"racist\\\": false,\\r\\n        \\\"sexist\\\": false\\r\\n    },\\r\\n    \\\"setup\\\": \\\"That is the way it has always been \\\",\\r\\n    \\\"delivery\\\": \\\"It just change\\\"\\r\\n}\"\n",
    "headers = {\n",
    "'Content-Type': 'application/json'\n",
    "}\n",
    "\n",
    "response = requests.request(\"PUT\", url1, headers=headers, data = payloadd)\n",
    "\n",
    "print(response.text.encode('utf8'))\n"
   ]
  },
  {
   "cell_type": "code",
   "execution_count": 19,
   "metadata": {},
   "outputs": [
    {
     "name": "stdout",
     "output_type": "stream",
     "text": [
      "b'{\\n    \"error\": false,\\n    \"message\": \"Joke submission was successfully saved. It will soon be checked out by the author.\",\\n    \"submission\": {\\n        \"formatVersion\": 2,\\n        \"category\": \"Miscellaneous\",\\n        \"type\": \"single\",\\n        \"flags\": {\\n            \"nsfw\": true,\\n            \"religious\": true,\\n            \"political\": false,\\n            \"racist\": false,\\n            \"sexist\": false\\n        },\\n        \"joke\": \"1+1 =11\\\\n2+2 =22\\\\n3+3 =33\\\\n...\\\\n10+10=1010\"\\n    },\\n    \"timestamp\": 1595161970302\\n}'\n"
     ]
    }
   ],
   "source": [
    "#Same scenario but different parameters\n",
    "url = \"https://sv443.net/jokeapi/v2/submit\"\n",
    "\n",
    "payload = \"{\\r\\n    \\\"formatVersion\\\": 2,\\r\\n    \\\"category\\\": \\\"Miscellaneous\\\",\\r\\n    \\\"type\\\": \\\"single\\\",\\r\\n    \\\"flags\\\": {\\r\\n        \\\"nsfw\\\": true,\\r\\n        \\\"religious\\\": true,\\r\\n        \\\"political\\\": false,\\r\\n        \\\"racist\\\": false,\\r\\n        \\\"sexist\\\": false\\r\\n    },\\r\\n    \\\"joke\\\": \\\"1+1 =11\\\\n2+2 =22\\\\n3+3 =33\\\\n...\\\\n10+10=1010\\\"\\r\\n}\"\n",
    "headers = {\n",
    "'Content-Type': 'application/json'\n",
    "}\n",
    "\n",
    "response = requests.put( url, headers=headers, data = payload)\n",
    "\n",
    "print(response.text.encode('utf8'))\n"
   ]
  },
  {
   "cell_type": "code",
   "execution_count": 21,
   "metadata": {},
   "outputs": [
    {
     "name": "stdout",
     "output_type": "stream",
     "text": [
      "b'{\\n  \"args\": {}, \\n  \"data\": \"\", \\n  \"files\": {}, \\n  \"form\": {}, \\n  \"headers\": {\\n    \"Accept\": \"*/*\", \\n    \"Accept-Encoding\": \"gzip, deflate\", \\n    \"Content-Length\": \"0\", \\n    \"Host\": \"httpbin.org\", \\n    \"User-Agent\": \"python-requests/2.22.0\", \\n    \"X-Amzn-Trace-Id\": \"Root=1-5f143dc5-63282d281858bbec41020998\"\\n  }, \\n  \"json\": null, \\n  \"origin\": \"78.23.25.81\", \\n  \"url\": \"https://httpbin.org/post\"\\n}\\n'\n"
     ]
    }
   ],
   "source": [
    "url = \"https://httpbin.org/post\"\n",
    "\n",
    "payload = {}\n",
    "headers= {}\n",
    "\n",
    "response = requests.request(\"POST\", url, headers=headers, data = payload)\n",
    "\n",
    "print(response.text.encode('utf8'))"
   ]
  },
  {
   "cell_type": "code",
   "execution_count": 22,
   "metadata": {},
   "outputs": [
    {
     "data": {
      "text/plain": [
       "{'Date': 'Sun, 19 Jul 2020 12:34:13 GMT', 'Content-Type': 'application/json', 'Content-Length': '397', 'Connection': 'keep-alive', 'Server': 'gunicorn/19.9.0', 'Access-Control-Allow-Origin': '*', 'Access-Control-Allow-Credentials': 'true'}"
      ]
     },
     "execution_count": 22,
     "metadata": {},
     "output_type": "execute_result"
    }
   ],
   "source": [
    "#view the server’s response headers using a Python dictionary\n",
    "response.headers"
   ]
  },
  {
   "cell_type": "code",
   "execution_count": null,
   "metadata": {},
   "outputs": [],
   "source": []
  },
  {
   "cell_type": "code",
   "execution_count": null,
   "metadata": {},
   "outputs": [],
   "source": []
  }
 ],
 "metadata": {
  "kernelspec": {
   "display_name": "Python 3",
   "language": "python",
   "name": "python3"
  },
  "language_info": {
   "codemirror_mode": {
    "name": "ipython",
    "version": 3
   },
   "file_extension": ".py",
   "mimetype": "text/x-python",
   "name": "python",
   "nbconvert_exporter": "python",
   "pygments_lexer": "ipython3",
   "version": "3.7.6"
  }
 },
 "nbformat": 4,
 "nbformat_minor": 4
}
